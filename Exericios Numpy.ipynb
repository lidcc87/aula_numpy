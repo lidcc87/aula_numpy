{
 "cells": [
  {
   "cell_type": "markdown",
   "metadata": {},
   "source": [
    "# Exercícios Numpy"
   ]
  },
  {
   "cell_type": "markdown",
   "metadata": {},
   "source": [
    "## Problema 1. \n",
    "Crie um vetor nulo de tamanho 10."
   ]
  },
  {
   "cell_type": "code",
   "execution_count": 64,
   "metadata": {},
   "outputs": [
    {
     "name": "stdout",
     "output_type": "stream",
     "text": [
      "[0. 0. 0. 0. 0. 0. 0. 0. 0. 0.]\n"
     ]
    }
   ],
   "source": [
    "import numpy as np\n",
    "n = np.zeros(10)\n",
    "print(n)"
   ]
  },
  {
   "cell_type": "markdown",
   "metadata": {},
   "source": [
    "## Problema 2. \n",
    "Como encontrar o tamanho da memória de qualquer matriz."
   ]
  },
  {
   "cell_type": "code",
   "execution_count": 71,
   "metadata": {},
   "outputs": [
    {
     "name": "stdout",
     "output_type": "stream",
     "text": [
      "80 bytes\n"
     ]
    }
   ],
   "source": [
    "import numpy as np\n",
    "n = np.zeros(10)\n",
    "print(\"%d bytes\" % (n.size * n.itemsize))"
   ]
  },
  {
   "cell_type": "markdown",
   "metadata": {},
   "source": [
    "## Problema 3. \n",
    "Crie um vetor nulo de tamanho 10, mas o quinto valor, que é 1."
   ]
  },
  {
   "cell_type": "code",
   "execution_count": 61,
   "metadata": {},
   "outputs": [
    {
     "name": "stdout",
     "output_type": "stream",
     "text": [
      "[0. 0. 0. 0. 1. 0. 0. 0. 0. 0.]\n"
     ]
    }
   ],
   "source": [
    "import numpy as np\n",
    "n = np.zeros(10)\n",
    "n[4]=1\n",
    "print(n)"
   ]
  },
  {
   "cell_type": "markdown",
   "metadata": {},
   "source": [
    "## Problema 4.\n",
    "Crie um vetor com valores que variam de 10 a 49."
   ]
  },
  {
   "cell_type": "code",
   "execution_count": 4,
   "metadata": {},
   "outputs": [
    {
     "name": "stdout",
     "output_type": "stream",
     "text": [
      "[10 11 12 13 14 15 16 17 18 19 20 21 22 23 24 25 26 27 28 29 30 31 32 33\n",
      " 34 35 36 37 38 39 40 41 42 43 44 45 46 47 48 49]\n"
     ]
    }
   ],
   "source": [
    "import numpy as np\n",
    "n = np.arange(10,50)\n",
    "print(n)"
   ]
  },
  {
   "cell_type": "code",
   "execution_count": 5,
   "metadata": {},
   "outputs": [
    {
     "name": "stdout",
     "output_type": "stream",
     "text": [
      "[49 49 49 49 49 49 49 49 49 49 49 49 49 49 49 49 49 49 49 49 49 49 49 49\n",
      " 49 49 49 49 49 49 49 49 49 49 49 49 49 49 49 49]\n"
     ]
    }
   ],
   "source": [
    "#por que o for nao funciona?\n",
    "import numpy as np\n",
    "\n",
    "#for i in range(1,5):\n",
    "#    n[0][i]=rd.randint(10,50)\n",
    "\n",
    "for i in range(0, 40):\n",
    "    for j in range(10,50):\n",
    "        n[i]=j\n",
    "print(n)"
   ]
  },
  {
   "cell_type": "markdown",
   "metadata": {},
   "source": [
    "## Problema 5.\n",
    "Inverter um vetor (o primeiro elemento se torna o último)."
   ]
  },
  {
   "cell_type": "code",
   "execution_count": 1,
   "metadata": {},
   "outputs": [
    {
     "name": "stdout",
     "output_type": "stream",
     "text": [
      "[1 2 3 4 5 6 7 8 9]\n",
      "[9 8 7 6 5 4 3 2 1]\n"
     ]
    }
   ],
   "source": [
    "import numpy as np\n",
    "n = np.arange(1,10)\n",
    "nr=n[::-1]\n",
    "print(n)\n",
    "print(nr)"
   ]
  },
  {
   "cell_type": "markdown",
   "metadata": {},
   "source": [
    "## Problema 6. \n",
    "Crie uma matriz 3x3 com valores que variam de 0 a 8."
   ]
  },
  {
   "cell_type": "code",
   "execution_count": 4,
   "metadata": {},
   "outputs": [
    {
     "name": "stdout",
     "output_type": "stream",
     "text": [
      "[[0 1 2]\n",
      " [3 4 5]\n",
      " [6 7 8]]\n"
     ]
    }
   ],
   "source": [
    "import numpy as np\n",
    "n = np.arange(0,9).reshape(3,3)\n",
    "print(n)"
   ]
  },
  {
   "cell_type": "markdown",
   "metadata": {},
   "source": [
    "## Problema 7.\n",
    "Encontre índices de elementos diferentes de zero em `[1,2,0,0,4,0 ]`."
   ]
  },
  {
   "cell_type": "code",
   "execution_count": 12,
   "metadata": {},
   "outputs": [
    {
     "name": "stdout",
     "output_type": "stream",
     "text": [
      "[1, 2, 0, 0, 4, 0]\n",
      "(array([0, 1, 4]),)\n"
     ]
    }
   ],
   "source": [
    "import numpy as np\n",
    "n = [1, 2, 0, 0, 4, 0]\n",
    "print(n)\n",
    "\n",
    "non_zero = np.nonzero(n)\n",
    "print(non_zero)"
   ]
  },
  {
   "cell_type": "markdown",
   "metadata": {},
   "source": [
    "## Problema 8.\n",
    "Crie uma matriz de identidade 3x3."
   ]
  },
  {
   "cell_type": "code",
   "execution_count": 14,
   "metadata": {},
   "outputs": [
    {
     "name": "stdout",
     "output_type": "stream",
     "text": [
      "[[1. 0. 0.]\n",
      " [0. 1. 0.]\n",
      " [0. 0. 1.]]\n"
     ]
    }
   ],
   "source": [
    "import numpy as np\n",
    "n = np.eye(3)\n",
    "print(n)"
   ]
  },
  {
   "cell_type": "markdown",
   "metadata": {},
   "source": [
    "## Problema 9.\n",
    "Crie uma matriz 3x3x3 com valores aleatórios."
   ]
  },
  {
   "cell_type": "code",
   "execution_count": 19,
   "metadata": {},
   "outputs": [
    {
     "name": "stdout",
     "output_type": "stream",
     "text": [
      "[[[0.11357782 0.56961137 0.39132714]\n",
      "  [0.24279384 0.67683134 0.04738267]\n",
      "  [0.67757619 0.46650785 0.836124  ]]\n",
      "\n",
      " [[0.52784387 0.82622056 0.27539537]\n",
      "  [0.65462563 0.94333049 0.26109571]\n",
      "  [0.51542755 0.15142669 0.25032634]]\n",
      "\n",
      " [[0.86756804 0.525104   0.58738127]\n",
      "  [0.04426816 0.28589914 0.34012033]\n",
      "  [0.35079707 0.53508234 0.27871126]]]\n"
     ]
    }
   ],
   "source": [
    "import numpy as np\n",
    "n = np.random.rand(3,3,3)\n",
    "print(n)"
   ]
  },
  {
   "cell_type": "markdown",
   "metadata": {},
   "source": [
    "## Problema 10. \n",
    "Crie uma matriz 10x10 com valores aleatórios e encontre os valores mínimo e máximo."
   ]
  },
  {
   "cell_type": "code",
   "execution_count": 23,
   "metadata": {},
   "outputs": [
    {
     "name": "stdout",
     "output_type": "stream",
     "text": [
      "[[0.645913   0.77007937 0.65831084 0.53002585 0.55304677 0.1211849\n",
      "  0.85937696 0.14715014 0.32495918 0.0937778 ]\n",
      " [0.85676318 0.32666007 0.57762085 0.08473219 0.33871405 0.83519299\n",
      "  0.08184336 0.22581677 0.15088451 0.23488099]\n",
      " [0.11339305 0.88984261 0.83826906 0.99600456 0.74385093 0.60995666\n",
      "  0.40492763 0.10251268 0.39751844 0.0958957 ]\n",
      " [0.87417071 0.1531939  0.36316232 0.02842379 0.11239191 0.78792561\n",
      "  0.31303677 0.47346813 0.07613858 0.84737612]\n",
      " [0.21599774 0.70098143 0.347791   0.99778883 0.16869988 0.69709685\n",
      "  0.37090696 0.74669325 0.58475134 0.82604256]\n",
      " [0.89388317 0.98082759 0.9743395  0.26875804 0.86870854 0.51721102\n",
      "  0.74123394 0.47205567 0.83794646 0.05363112]\n",
      " [0.29056139 0.21881771 0.21761031 0.66853725 0.70972355 0.34314979\n",
      "  0.87216836 0.93591324 0.87113414 0.5680317 ]\n",
      " [0.52992361 0.54979802 0.44343768 0.6239085  0.37923429 0.34017741\n",
      "  0.130906   0.45369697 0.3820132  0.66184749]\n",
      " [0.63022515 0.89311235 0.91593262 0.18607826 0.55988786 0.05540857\n",
      "  0.18015958 0.41144355 0.77911314 0.23361586]\n",
      " [0.04979745 0.73270309 0.59620914 0.07646134 0.00838387 0.31475599\n",
      "  0.24308426 0.12411719 0.98007747 0.83374924]]\n",
      "0.008383870824271167\n",
      "0.9977888288853555\n"
     ]
    }
   ],
   "source": [
    "import numpy as np\n",
    "n = np.random.rand(10,10)\n",
    "print(n)\n",
    "\n",
    "n_min=n.min()\n",
    "print(n_min)\n",
    "\n",
    "n_max=n.max()\n",
    "print(n_max)"
   ]
  },
  {
   "cell_type": "markdown",
   "metadata": {},
   "source": [
    "## Problema 11.\n",
    "Crie um vetor aleatório de tamanho 30 e encontre o valor médio."
   ]
  },
  {
   "cell_type": "code",
   "execution_count": 33,
   "metadata": {},
   "outputs": [
    {
     "name": "stdout",
     "output_type": "stream",
     "text": [
      "[0.89459031 0.89564882 0.75811593 0.23356309 0.93910306 0.28562759\n",
      " 0.24129923 0.03943998 0.53038883 0.2864985  0.95676945 0.0617268\n",
      " 0.30389811 0.22309524 0.9787033  0.1433271  0.86778956 0.92141459\n",
      " 0.52423223 0.49989271 0.05883369 0.42137539 0.04136289 0.27024063\n",
      " 0.33990394 0.15426988 0.07162945 0.71587479 0.78921238 0.31452268]\n",
      "0.45874500479158087\n"
     ]
    }
   ],
   "source": [
    "import numpy as np\n",
    "n = np.random.rand(30)\n",
    "print(n)\n",
    "\n",
    "n_media = n.mean()\n",
    "print(n_media)"
   ]
  },
  {
   "cell_type": "markdown",
   "metadata": {},
   "source": [
    "## Problema 12.\n",
    "Crie uma matriz 2D com 1 na borda e 0 dentro."
   ]
  },
  {
   "cell_type": "code",
   "execution_count": 36,
   "metadata": {},
   "outputs": [
    {
     "name": "stdout",
     "output_type": "stream",
     "text": [
      "[[1. 1. 1. 1.]\n",
      " [1. 1. 1. 1.]\n",
      " [1. 1. 1. 1.]\n",
      " [1. 1. 1. 1.]]\n",
      "[[0. 0. 0. 0. 0. 0.]\n",
      " [0. 1. 1. 1. 1. 0.]\n",
      " [0. 1. 1. 1. 1. 0.]\n",
      " [0. 1. 1. 1. 1. 0.]\n",
      " [0. 1. 1. 1. 1. 0.]\n",
      " [0. 0. 0. 0. 0. 0.]]\n"
     ]
    }
   ],
   "source": [
    "import numpy as np\n",
    "n = np.ones((4,4))\n",
    "print(n)\n",
    "\n",
    "n = np.pad(n, pad_width=1, mode='constant', constant_values=0)\n",
    "print(n)"
   ]
  },
  {
   "cell_type": "markdown",
   "metadata": {},
   "source": [
    "## Problema 13.\n",
    "Crie uma matriz 5x5 com valores 1,2,3,4 logo abaixo da diagonal."
   ]
  },
  {
   "cell_type": "code",
   "execution_count": 46,
   "metadata": {},
   "outputs": [
    {
     "name": "stdout",
     "output_type": "stream",
     "text": [
      "[[0 0 0 0 0]\n",
      " [1 0 0 0 0]\n",
      " [0 2 0 0 0]\n",
      " [0 0 3 0 0]\n",
      " [0 0 0 4 0]]\n"
     ]
    }
   ],
   "source": [
    "import numpy as np\n",
    "n = np.diag(1+np.arange(4),k=-1)\n",
    "print(n)"
   ]
  },
  {
   "cell_type": "markdown",
   "metadata": {},
   "source": [
    "## Problema 14. \n",
    "Crie uma matriz estruturada representando uma posição (x, y) e uma cor (r, g, b)."
   ]
  },
  {
   "cell_type": "code",
   "execution_count": 49,
   "metadata": {},
   "outputs": [],
   "source": [
    "import numpy as np\n"
   ]
  },
  {
   "cell_type": "markdown",
   "metadata": {},
   "source": [
    "## Problema 15. \n",
    "Subtrair a média de cada linha de uma matriz."
   ]
  },
  {
   "cell_type": "code",
   "execution_count": 53,
   "metadata": {},
   "outputs": [
    {
     "name": "stdout",
     "output_type": "stream",
     "text": [
      "[[0.48076772 0.13742057 0.40754533 0.14190207 0.23147716 0.77852508\n",
      "  0.87690898 0.02485014 0.77475251 0.47773273]\n",
      " [0.1346101  0.85119977 0.40913332 0.03981678 0.72355039 0.86970871\n",
      "  0.42479681 0.08296    0.77455967 0.46161363]\n",
      " [0.39084435 0.67551782 0.07217564 0.28509761 0.27785387 0.4124134\n",
      "  0.01926296 0.22145696 0.59355155 0.66506695]\n",
      " [0.11665133 0.17745643 0.20961304 0.3220044  0.13627855 0.15673678\n",
      "  0.33915917 0.74781234 0.95210414 0.84694735]\n",
      " [0.2458417  0.98704244 0.91567281 0.14656809 0.62735213 0.38227593\n",
      "  0.07852014 0.19992725 0.67734228 0.54101767]]\n",
      "[[ 0.264851   -0.264851  ]\n",
      " [ 0.16295181 -0.16295181]]\n"
     ]
    }
   ],
   "source": [
    "x = np.random.rand(2, 2)\n",
    "print(n)\n",
    "\n",
    "y = x - x.mean(axis=1).reshape(-1, 1)\n",
    "\n",
    "print(y)"
   ]
  },
  {
   "cell_type": "markdown",
   "metadata": {},
   "source": [
    "## Problema 16.\n",
    "Como encontrar o valor mais frequente em uma matriz?"
   ]
  },
  {
   "cell_type": "markdown",
   "metadata": {},
   "source": [
    "## Problema 17.\n",
    "Crie uma matriz com valores aletaórios e salve para um arquivo."
   ]
  },
  {
   "cell_type": "markdown",
   "metadata": {},
   "source": [
    "## Problema 18.\n",
    "Crie uma matriz a partir de um arquivo."
   ]
  },
  {
   "cell_type": "code",
   "execution_count": null,
   "metadata": {},
   "outputs": [],
   "source": []
  }
 ],
 "metadata": {
  "kernelspec": {
   "display_name": "Python 3",
   "language": "python",
   "name": "python3"
  },
  "language_info": {
   "codemirror_mode": {
    "name": "ipython",
    "version": 3
   },
   "file_extension": ".py",
   "mimetype": "text/x-python",
   "name": "python",
   "nbconvert_exporter": "python",
   "pygments_lexer": "ipython3",
   "version": "3.7.4"
  }
 },
 "nbformat": 4,
 "nbformat_minor": 2
}
